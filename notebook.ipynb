{
 "cells": [
  {
   "cell_type": "markdown",
   "metadata": {},
   "source": [
    "# Introduction to Programming Language: Loan Calculation\n",
    "\n",
    "**Authors:** Magomed Bairamkulov and Mateus De Souza\n",
    "\n",
    "## Objective:\n",
    "The purpose of this notebook is to provide an educational introduction to programming language, specifically focusing on bridging the functionality gap observed in the usage of Excel for loan calculations in financial institutions. To achieve this goal, we will utilize mock data and implement financial metrics for loan calculation from scratch.\n",
    "\n",
    "## Key Features:\n",
    "- Introduction to programming concepts relevant to financial calculations.\n",
    "- Step-by-step implementation of loan calculation algorithms.\n",
    "- Utilization of mock data for demonstration purposes.\n",
    "\n",
    "## Table of Contents:\n",
    "1. Introduction to Loan Calculations\n",
    "2. Python Basics for Financial Calculations\n",
    "3. Implementation of Loan Calculation Algorithms\n",
    "4. Testing and Validation with Mock Data\n",
    "5. Conclusion and Next Steps\n",
    "\n",
    "## About the Authors:\n",
    "Magamed Sharipov and Mateus De Souza are passionate programmers with a combined expertise in finance and software development. They collaborated on this notebook as part of a pair programming initiative aimed at creating educational content for programming enthusiasts.\n",
    "\n",
    "**Note:** This notebook serves as a beginner-friendly guide to programming concepts in the context of financial calculations. No prior programming experience is required, making it accessible to learners from diverse backgrounds.\n"
   ]
  },
  {
   "cell_type": "markdown",
   "metadata": {},
   "source": [
    "### Requirements\n",
    "- Install Pandas and MatplotLib\n",
    "- Instead of using numpy-finance, lets develop our financial functions"
   ]
  },
  {
   "cell_type": "markdown",
   "metadata": {},
   "source": [
    "### Libraries"
   ]
  },
  {
   "cell_type": "code",
   "execution_count": 2,
   "metadata": {},
   "outputs": [],
   "source": [
    "import pandas as pd\n",
    "import matplotlib as plt\n",
    "import numpy as np"
   ]
  },
  {
   "cell_type": "markdown",
   "metadata": {},
   "source": [
    "### Load Data"
   ]
  },
  {
   "cell_type": "code",
   "execution_count": 15,
   "metadata": {},
   "outputs": [
    {
     "data": {
      "text/html": [
       "<div>\n",
       "<style scoped>\n",
       "    .dataframe tbody tr th:only-of-type {\n",
       "        vertical-align: middle;\n",
       "    }\n",
       "\n",
       "    .dataframe tbody tr th {\n",
       "        vertical-align: top;\n",
       "    }\n",
       "\n",
       "    .dataframe thead th {\n",
       "        text-align: right;\n",
       "    }\n",
       "</style>\n",
       "<table border=\"1\" class=\"dataframe\">\n",
       "  <thead>\n",
       "    <tr style=\"text-align: right;\">\n",
       "      <th></th>\n",
       "      <th>SK_ID_CURR</th>\n",
       "      <th>AMT_INCOME_TOTAL</th>\n",
       "      <th>coupon</th>\n",
       "      <th>AMT_ANNUITY</th>\n",
       "      <th>Bullet</th>\n",
       "    </tr>\n",
       "  </thead>\n",
       "  <tbody>\n",
       "    <tr>\n",
       "      <th>0</th>\n",
       "      <td>100366</td>\n",
       "      <td>765,000</td>\n",
       "      <td>300%</td>\n",
       "      <td>22</td>\n",
       "      <td>0</td>\n",
       "    </tr>\n",
       "    <tr>\n",
       "      <th>1</th>\n",
       "      <td>100380</td>\n",
       "      <td>630,000</td>\n",
       "      <td>900%</td>\n",
       "      <td>26</td>\n",
       "      <td>0</td>\n",
       "    </tr>\n",
       "    <tr>\n",
       "      <th>2</th>\n",
       "      <td>100454</td>\n",
       "      <td>607,500</td>\n",
       "      <td>1000%</td>\n",
       "      <td>61</td>\n",
       "      <td>0</td>\n",
       "    </tr>\n",
       "    <tr>\n",
       "      <th>3</th>\n",
       "      <td>100059</td>\n",
       "      <td>540,000</td>\n",
       "      <td>200%</td>\n",
       "      <td>140</td>\n",
       "      <td>1</td>\n",
       "    </tr>\n",
       "    <tr>\n",
       "      <th>4</th>\n",
       "      <td>100070</td>\n",
       "      <td>540,000</td>\n",
       "      <td>600%</td>\n",
       "      <td>125</td>\n",
       "      <td>1</td>\n",
       "    </tr>\n",
       "    <tr>\n",
       "      <th>...</th>\n",
       "      <td>...</td>\n",
       "      <td>...</td>\n",
       "      <td>...</td>\n",
       "      <td>...</td>\n",
       "      <td>...</td>\n",
       "    </tr>\n",
       "    <tr>\n",
       "      <th>993</th>\n",
       "      <td>101146</td>\n",
       "      <td>38,700</td>\n",
       "      <td>400%</td>\n",
       "      <td>96</td>\n",
       "      <td>0</td>\n",
       "    </tr>\n",
       "    <tr>\n",
       "      <th>994</th>\n",
       "      <td>100015</td>\n",
       "      <td>38,419</td>\n",
       "      <td>900%</td>\n",
       "      <td>10</td>\n",
       "      <td>1</td>\n",
       "    </tr>\n",
       "    <tr>\n",
       "      <th>995</th>\n",
       "      <td>100743</td>\n",
       "      <td>38,250</td>\n",
       "      <td>900%</td>\n",
       "      <td>71</td>\n",
       "      <td>1</td>\n",
       "    </tr>\n",
       "    <tr>\n",
       "      <th>996</th>\n",
       "      <td>100326</td>\n",
       "      <td>36,000</td>\n",
       "      <td>300%</td>\n",
       "      <td>116</td>\n",
       "      <td>0</td>\n",
       "    </tr>\n",
       "    <tr>\n",
       "      <th>997</th>\n",
       "      <td>100572</td>\n",
       "      <td>31,500</td>\n",
       "      <td>600%</td>\n",
       "      <td>85</td>\n",
       "      <td>0</td>\n",
       "    </tr>\n",
       "  </tbody>\n",
       "</table>\n",
       "<p>998 rows × 5 columns</p>\n",
       "</div>"
      ],
      "text/plain": [
       "     SK_ID_CURR AMT_INCOME_TOTAL coupon  AMT_ANNUITY  Bullet\n",
       "0        100366          765,000   300%           22       0\n",
       "1        100380          630,000   900%           26       0\n",
       "2        100454          607,500  1000%           61       0\n",
       "3        100059          540,000   200%          140       1\n",
       "4        100070          540,000   600%          125       1\n",
       "..          ...              ...    ...          ...     ...\n",
       "993      101146           38,700   400%           96       0\n",
       "994      100015           38,419   900%           10       1\n",
       "995      100743           38,250   900%           71       1\n",
       "996      100326           36,000   300%          116       0\n",
       "997      100572           31,500   600%           85       0\n",
       "\n",
       "[998 rows x 5 columns]"
      ]
     },
     "execution_count": 15,
     "metadata": {},
     "output_type": "execute_result"
    }
   ],
   "source": [
    "data = pd.read_csv('portfolio_data.csv')\n",
    "\n",
    "#SK_ID_CURR is our unique ID\n",
    "#AMT_INCOME_TOTAL is the loan balance - the money that the bank is giving to the custumer\n",
    "#coupon is the percentage of interest in which the bank is applying to the loan. This data has a problem in its format - need to be clean before processing.\n",
    "#AMT_ANNUITY - months to pay the loan.\n",
    "#bullet - in the case it is true, we should avoid the calculus using the coupon. The loan is \"interested free\""
   ]
  },
  {
   "cell_type": "markdown",
   "metadata": {},
   "source": [
    "# Data Cleaning"
   ]
  },
  {
   "cell_type": "code",
   "execution_count": 16,
   "metadata": {},
   "outputs": [],
   "source": [
    "data['coupon'] = data['coupon'].str.replace('%','').astype(float).div(10000)\n",
    "data['AMT_INCOME_TOTAL'] = data['AMT_INCOME_TOTAL'].str.replace(',','').astype(float)"
   ]
  },
  {
   "cell_type": "markdown",
   "metadata": {},
   "source": [
    "### Data Integrity Test"
   ]
  },
  {
   "cell_type": "code",
   "execution_count": 29,
   "metadata": {},
   "outputs": [
    {
     "name": "stdout",
     "output_type": "stream",
     "text": [
      "Data Integrity = ID's are unique\n"
     ]
    }
   ],
   "source": [
    "if (data['SK_ID_CURR'].count() == data['SK_ID_CURR'].nunique()):\n",
    "    print(\"Data Integrity = ID's are unique\")"
   ]
  },
  {
   "cell_type": "markdown",
   "metadata": {},
   "source": [
    "### Loan Calculator Function"
   ]
  },
  {
   "cell_type": "code",
   "execution_count": null,
   "metadata": {},
   "outputs": [],
   "source": []
  },
  {
   "cell_type": "code",
   "execution_count": null,
   "metadata": {},
   "outputs": [],
   "source": [
    "def loan_calculator(loan_balance: float, interest_rate: float, months_dui: int,unique_id: str, interest_flag: int):\n",
    "    \n",
    "    return Dataframe"
   ]
  }
 ],
 "metadata": {
  "kernelspec": {
   "display_name": "Python 3",
   "language": "python",
   "name": "python3"
  },
  "language_info": {
   "codemirror_mode": {
    "name": "ipython",
    "version": 3
   },
   "file_extension": ".py",
   "mimetype": "text/x-python",
   "name": "python",
   "nbconvert_exporter": "python",
   "pygments_lexer": "ipython3",
   "version": "3.11.8"
  }
 },
 "nbformat": 4,
 "nbformat_minor": 2
}
